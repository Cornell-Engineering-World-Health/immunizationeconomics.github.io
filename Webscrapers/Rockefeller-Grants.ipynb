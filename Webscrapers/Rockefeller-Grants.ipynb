{
 "cells": [
  {
   "cell_type": "code",
   "execution_count": 2,
   "metadata": {},
   "outputs": [
    {
     "name": "stdout",
     "output_type": "stream",
     "text": [
      "Webscraping complete\n"
     ]
    }
   ],
   "source": [
    "import requests\n",
    "from bs4 import BeautifulSoup as bs\n",
    "import re\n",
    "import csv\n",
    " \n",
    "import pandas as pd\n",
    "\n",
    "url = 'https://www.rockefellerfoundation.org/grants/'\n",
    "\n",
    "#requesting a session in the specific url\n",
    "with requests.Session() as s:\n",
    "    r = s.get(url)\n",
    "    src = r.content\n",
    "    soup = bs(src)\n",
    "    soup.prettify()\n",
    "    descriptions = []\n",
    "    allPages = []\n",
    "    amounts = []\n",
    "    names = []\n",
    "    while url != '':  \n",
    "        #print(url)\n",
    "        r = s.get(url)\n",
    "        src = r.content\n",
    "        soup = bs(src)\n",
    "        soup.prettify()\n",
    "        next_link = str(soup.find_all('li', {'class': 'next btn'}))\n",
    "        next_link = next_link[60:]\n",
    "        next_link = next_link[:next_link.find('>')]\n",
    "        data = soup.find_all('div', {'class': 'grant-left'})\n",
    "        for link in data:\n",
    "                url = link.find('a').get('href')\n",
    "                allPages.append(url)\n",
    "                page_source = s.get(url).content\n",
    "                soup = bs(page_source) \n",
    "                soup.prettify()\n",
    "                soup = str(soup)\n",
    "                description_index1 = soup.find(\"<h2>Description:</h2> <span>\")\n",
    "                description_index2 = soup[description_index1:].find(\"</sp\")\n",
    "                descriptions.append(soup[description_index1+28:description_index1 + description_index2])\n",
    "                name_index1 = soup.find(\"<title>\")\n",
    "                name_index2 = soup[name_index1:].find(\"-\") - 1\n",
    "                names.append(soup[name_index1+7:name_index1 + name_index2])\n",
    "                amount_index1 = soup.find(\"<span>$\")\n",
    "                amount_index2 = soup[amount_index1:].find(\"</span>\")\n",
    "                amounts.append(soup[amount_index1 + 6:amount_index1  + amount_index2])\n",
    "        url = next_link \n",
    "    \n",
    "    \n",
    "DataFrame = pd.DataFrame()\n",
    "DataFrame['Page URL'] = allPages\n",
    "DataFrame['Name'] = names\n",
    "DataFrame['Description'] = descriptions\n",
    "DataFrame['Amount'] = amounts\n",
    "    \n",
    "Data = DataFrame.drop_duplicates() \n",
    "Data.to_csv(\"Rockefeller_Funding_Data.csv\")\n",
    "\n",
    "print('Webscraping complete')"
   ]
  },
  {
   "cell_type": "code",
   "execution_count": null,
   "metadata": {},
   "outputs": [],
   "source": []
  }
 ],
 "metadata": {
  "kernelspec": {
   "display_name": "Python 3",
   "language": "python",
   "name": "python3"
  },
  "language_info": {
   "codemirror_mode": {
    "name": "ipython",
    "version": 3
   },
   "file_extension": ".py",
   "mimetype": "text/x-python",
   "name": "python",
   "nbconvert_exporter": "python",
   "pygments_lexer": "ipython3",
   "version": "3.7.6"
  }
 },
 "nbformat": 4,
 "nbformat_minor": 4
}
