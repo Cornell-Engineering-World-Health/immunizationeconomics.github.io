{
 "cells": [
  {
   "cell_type": "code",
   "execution_count": 2,
   "metadata": {},
   "outputs": [
    {
     "name": "stdout",
     "output_type": "stream",
     "text": [
      "Webscraping complete\n"
     ]
    }
   ],
   "source": [
    "import requests\n",
    "from bs4 import BeautifulSoup as bs \n",
    "import re\n",
    "\n",
    "import pandas as pd\n",
    "\n",
    "url = 'https://careers.jsi.com/JSIInternet/Careers/jobpostings.cfm'\n",
    "\n",
    "#requesting a session in the specific url,"
    "with requests.Session() as s: \n",
    "    r = s.get(url)\n",
    "    src = r.content \n",
    "    soup = bs(src)\n",
    "    soup.prettify()\n",
    "    \n",
    "    #navigating the page and finding the job posting urls and appending it to allPages,"
    "    allPages = []\n",
    "    #looping through each page in allPages,"
    "    data = soup.find_all('li', class_ = 'opensquare opensquare-link-list-item')\n",
    "    for link in data:\n",
    "        url = link.find('a')\n",
    "        if url not in allPages:\n",
    "            allPages.append(url.get('href')) \n",
    "    \n",
    "    page_url = [] \n",
    "    job_position = [] \n",
    "    description = [] \n",
    "    location = [] \n",
    "    requirements = []\n",
    "    ImmEcs = []\n",
    "    organization = []\n",
    "    \n",
    "    #need the root url because href only has the second part of the url,"
    "    root_url= 'https://careers.jsi.com'\n",
    "    \n",
    "    for page in allPages:\n",
    "        result = s.get(root_url + page) \n",
    "        page_source = result.content \n",
    "        soup = bs(page_source) \n",
    "        soup.prettify()\n",
    "        \n",
    "       #stripping all of the content from each page and searching for the key words ,"
    "        for script in soup(['script','style']): \n",
    "            script.decompose()\n",
    "        strips = list(soup.stripped_strings)\n",
    "        strips = str(strips)\n",
    "            \n",
    "        immunization = ['Immunization', 'immunisation', 'vaccine', 'vaccines','vaccine-preventable diseases', 'vpd outbreak',\n",
    "            'immunization campaign', 'SIA','supplemental immunization act ivities', 'cold chain', 'GAVI','shigella', 'cholera',\n",
    "            'bcg', 'dtp', 'dpt', 'measles', 'influenza', 'conjugate vaccine']\n",
    "\n",
    "        economics = ['Economics','expenditure tracking', 'financing', \n",
    "            'value for vaccination' , 'costing', 'economic analysis','costs' , 'equity', 'cost effectiveness', 'cost-effectiveness', \n",
    "            'cost benefit analysis', 'benefit-cost analysis','cost utility analysis','budget impact analysis' , 'budget' , 'budgeting' , \n",
    "            'GAVI','funding gap','fiscal']\n",
    "\n",
    "        #checking for Immunization and Economic key words,"
    "        imm_result = any(ele in strips for ele in immunization)\n",
    "        ec_result = any(ele in strips for ele in economics)\n",
    "\n",
    "        #only enter the if statement if the page has an Immunization or Economics key word,"
    "        if imm_result or ec_result:\n",
    "            #appending both/immunziation/economics to the column ImmEcs,"
    "            if (imm_result and ec_result): ImmEcs.append('Both')\n",
    "            elif imm_result: ImmEcs.append('Immunization')\n",
    "            else: ImmEcs.append('Economics')\n",
    "\n",
    "            #appending page url,"
    "            page_url.append(root_url + page)\n",
    "\n",
    "            #appending job position name,"
    "            job_position_data = soup.find('div', id = 'job-description-container')\n",
    "            h3 = job_position_data.find('h3')\n",
    "            job_position.append(h3.getText())\n",
    "\n",
    "            description_data = soup.find_all('div',attrs={'style':'margin-top:5px;margin-bottom:15px;text-align:left;'})\n",
    "            for data in description_data:\n",
    "                des = str(description_data)\n",
    "                #print(des)\n",
    "                start = des.find('[<div style=\"margin-top:5px;margin-bottom:15px;text-align:left;\">') + len('[<div style=\"margin-top:5px;margin-bottom:15px;text-align:left;\">')\n",
    "                end = des.find('</div>, <div style=\"margin-top:5px;margin-bottom:15px;text-align:left;\"')\n",
    "                text = des[start:end]\n",
    "                text = re.sub('<\\S*>', '', text)\n",
    "                text = re.sub('<a href=\"\\S*\">', '', text)\n",
    "                if text not in description:\n",
    "                    description.append(text)\n",
    "            #print(description)\n",
    "\n",
    "            #scraping the location data and appending to location,"
    "            location_data = soup.find_all('div', id = 'job-description-container') \n",
    "            for data in location_data:\n",
    "                p = data.find('p')\n",
    "                if p.find('strong'=='Location:'):\n",
    "                    text = p.text\n",
    "                    text = text[10:]\n",
    "                    location.append(text)\n",
    "            #print(location)\n",
    "\n",
    "            requirements_data = soup.find_all('div',attrs={'style':'margin-top:5px;margin-bottom:15px;text-align:left;'})\n",
    "            for data in requirements_data: \n",
    "                res = str(requirements_data)\n",
    "                start = res.find('</div>, <div style=\"margin-top:5px;margin-bottom:15px;text-align:left;\">1.') + len('</div>, <div style=\"margin-top:5px;margin-bottom:15px;text-align:left;\">1.')\n",
    "                end = res.find('</div>]')\n",
    "                text = res[start:end]\n",
    "                text = re.sub('<\\S*>', '', text)\n",
    "                text = re.sub('<div style=\"\\S*\">', '', text)\n",
    "                text = re.sub('<a href=\"\\S*\">', '', text)\n",
    "                if text not in requirements:\n",
    "                    requirements.append(text)\n",
    "            #print(requirements)\n",
    "            #appending JSI to organization,"
    "            organization.append('JSI')\n",
    "\n",
    "DataFrame = pd.DataFrame() \n",
    "DataFrame['Page Url']= page_url \n",
    "DataFrame['Job']= job_position \n",
    "DataFrame['Location'] = location\n",
    "# DataFrame['Immunization'] = Immunization\n",
    "# DataFrame['Economics'] = Economics\n",
    "DataFrame['ImmEcs'] = ImmEcs\n",
    "DataFrame['Description'] = description \n",
    "DataFrame['Requirements']= requirements\n",
    "DataFrame['Organization'] = organization\n",
    "\n",
    "Data = DataFrame.drop_duplicates() \n",
    "\n",
    "Data.to_csv(\"JSI_Data.csv\")\n",
    "\n",
    "print('Webscraping complete')"
   ]
  },
  {
   "cell_type": "code",
   "execution_count": null,
   "metadata": {},
   "outputs": [],
   "source": []
  }
 ],
 "metadata": {
  "kernelspec": {
   "display_name": "Python 3",
   "language": "python",
   "name": "python3"
  },
  "language_info": {
   "codemirror_mode": {
    "name": "ipython",
    "version": 3
   },
   "file_extension": ".py",
   "mimetype": "text/x-python",
   "name": "python",
   "nbconvert_exporter": "python",
   "pygments_lexer": "ipython3",
   "version": "3.8.3"
  }
 },
 "nbformat": 4,
 "nbformat_minor": 4
}
