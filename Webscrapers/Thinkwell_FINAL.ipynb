{
 "cells": [
  {
   "cell_type": "code",
   "execution_count": 1,
   "metadata": {},
   "outputs": [
    {
     "name": "stdout",
     "output_type": "stream",
     "text": [
      "Requirement already satisfied: selenium in /Users/hur712/opt/anaconda3/lib/python3.8/site-packages (3.141.0)\n",
      "Requirement already satisfied: urllib3 in /Users/hur712/opt/anaconda3/lib/python3.8/site-packages (from selenium) (1.25.9)\n"
     ]
    }
   ],
   "source": [
    "!pip install selenium"
   ]
  },
  {
   "cell_type": "code",
   "execution_count": 2,
   "metadata": {},
   "outputs": [
    {
     "name": "stdout",
     "output_type": "stream",
     "text": [
      "Requirement already satisfied: webdriver_manager in /Users/hur712/opt/anaconda3/lib/python3.8/site-packages (3.2.2)\n",
      "Requirement already satisfied: configparser in /Users/hur712/opt/anaconda3/lib/python3.8/site-packages (from webdriver_manager) (5.0.1)\n",
      "Requirement already satisfied: crayons in /Users/hur712/opt/anaconda3/lib/python3.8/site-packages (from webdriver_manager) (0.4.0)\n",
      "Requirement already satisfied: requests in /Users/hur712/opt/anaconda3/lib/python3.8/site-packages (from webdriver_manager) (2.24.0)\n",
      "Requirement already satisfied: colorama in /Users/hur712/opt/anaconda3/lib/python3.8/site-packages (from crayons->webdriver_manager) (0.4.3)\n",
      "Requirement already satisfied: idna<3,>=2.5 in /Users/hur712/opt/anaconda3/lib/python3.8/site-packages (from requests->webdriver_manager) (2.10)\n",
      "Requirement already satisfied: urllib3!=1.25.0,!=1.25.1,<1.26,>=1.21.1 in /Users/hur712/opt/anaconda3/lib/python3.8/site-packages (from requests->webdriver_manager) (1.25.9)\n",
      "Requirement already satisfied: certifi>=2017.4.17 in /Users/hur712/opt/anaconda3/lib/python3.8/site-packages (from requests->webdriver_manager) (2020.6.20)\n",
      "Requirement already satisfied: chardet<4,>=3.0.2 in /Users/hur712/opt/anaconda3/lib/python3.8/site-packages (from requests->webdriver_manager) (3.0.4)\n",
      "Note: you may need to restart the kernel to use updated packages.\n"
     ]
    }
   ],
   "source": [
    "pip install webdriver_manager"
   ]
  },
  {
   "cell_type": "code",
   "execution_count": 4,
   "metadata": {},
   "outputs": [
    {
     "name": "stderr",
     "output_type": "stream",
     "text": [
      "[WDM] - Current google-chrome version is 87.0.4280\n",
      "[WDM] - Get LATEST driver version for 87.0.4280\n",
      "[WDM] - Driver [/Users/hur712/.wdm/drivers/chromedriver/mac64/87.0.4280.88/chromedriver] found in cache\n"
     ]
    },
    {
     "name": "stdout",
     "output_type": "stream",
     "text": [
      " \n",
      "Webscraping complete\n"
     ]
    }
   ],
   "source": [
    "\"\"\"\n",
    "For this webscraper, the job description and requirements were combined into the same cell because they were not \n",
    "easily separated from the site's html. \n",
    "\"\"\"\n",
    "\n",
    "import requests\n",
    "from bs4 import BeautifulSoup as bs \n",
    "from selenium import webdriver\n",
    "import re\n",
    "\n",
    "import pandas as pd\n",
    "\n",
    "from selenium import webdriver\n",
    "from webdriver_manager.chrome import ChromeDriverManager\n",
    "from selenium.webdriver.chrome.options import Options\n",
    "from time import sleep\n",
    "\n",
    "options = Options()\n",
    "options.add_argument(\"--headless\")\n",
    "driver = webdriver.Chrome(ChromeDriverManager().install(), options=options)\n",
    "\n",
    "url = 'https://thinkwell.global/work-for-us/our-vacancies/'\n",
    "driver.get(url)\n",
    "\n",
    "with requests.Session() as s: \n",
    "    r = s.get(url)\n",
    "    src = driver.page_source\n",
    "    soup = bs(src)\n",
    "    soup.prettify()\n",
    "    \n",
    "    rootUrl = \"https://apply.workable.com/thinkwell\"\n",
    "    \n",
    "    pageUrl = []     \n",
    "    jobPosition = [] \n",
    "    location = []     \n",
    "    des_and_req = []  \n",
    "    Immunization = [] \n",
    "    Economics = []    \n",
    "    \n",
    "    allLinks = []\n",
    "    allJobNames = []\n",
    "    \n",
    "    data = soup.find_all('h3', class_='whr-title')\n",
    "    \n",
    "    for nameLink in data:\n",
    "        link = nameLink.find('a')['href']\n",
    "        allLinks.append(link)\n",
    "        \n",
    "        name = nameLink.find('a').text\n",
    "        allJobNames.append(name)\n",
    "\n",
    "        \n",
    "    jobIndex = 0\n",
    "    for page in allLinks:\n",
    "        driver.get(page)\n",
    "        pageSource = driver.page_source\n",
    "        soup = bs(pageSource) \n",
    "        soup.prettify()\n",
    "\n",
    "        for script in soup(['script','style']):\n",
    "            script.decompose()\n",
    "        strips = list(soup.stripped_strings)\n",
    "        strips = str(strips)\n",
    "                \n",
    "        immunization = ['Immunization', 'immunisation', 'vaccine', 'vaccines','vaccine-preventable diseases', 'vpd outbreak',\n",
    "            'immunization campaign', 'SIA','supplemental immunization activities', 'cold chain', 'GAVI','shigella', 'cholera',\n",
    "            'bcg', 'dtp', 'dpt', 'measles', 'influenza', 'conjugate vaccine']\n",
    "\n",
    "        economics = ['Economics','expenditure tracking', 'financing', \n",
    "            'value for vaccination' , 'costing', 'economic analysis','costs' , 'equity', 'cost effectiveness', 'cost-effectiveness', \n",
    "            'cost benefit analysis', 'benefit-cost analysis','cost utility analysis','budget impact analysis' , 'budget' , 'budgeting' , \n",
    "            'GAVI','funding gap','fiscal']\n",
    "\n",
    "        immResult = any(ele in strips for ele in immunization)\n",
    "        ecResult = any(ele in strips for ele in economics)\n",
    "        \n",
    "        \n",
    "        if immResult or ecResult:\n",
    "            if immResult: Immunization.append('True')\n",
    "            else: Immunization.append('False')\n",
    "            if ecResult: Economics.append('True')\n",
    "            else: Economics.append('False')\n",
    "                \n",
    "            descriptionString = \"\"\n",
    "            requirementsString = \"\"\n",
    "            desReqString = \"\"\n",
    "            \n",
    "            locationList = soup.find(\"p\", class_=\"job-details-styles__details--11P0z job-styles__headerDetails--1HMvu\")\n",
    "            for col in locationList: \n",
    "                if \"job-location\" in str(col): location.append(col.text)\n",
    "             \n",
    "            strongTextDes = \"\"\n",
    "            descriptionCode = soup.find(\"div\", class_=\"job-preview-styles__description--2BkR3\")\n",
    "            strongCodeDes = descriptionCode.find_all(\"strong\")\n",
    "            for strong in strongCodeDes:\n",
    "                strongTextDes = \"DELETE\" + strong.text + \"DELETE\"\n",
    "                if \"YOU ARE\" not in strongTextDes and \"OVERVIEW\" not in strongTextDes: strong.replaceWith(strongTextDes)\n",
    "            descriptionString = descriptionString + descriptionCode.get_text(separator=\"\\n\").replace(\"      \", \" \").replace(\"DELETE\\n\", \"\").replace(\"\\nDELETE\", \"\").replace(\"DELETE\", \"\").replace(\"\\n,\", \",\")\n",
    "            desReqString = desReqString + descriptionString\n",
    "            \n",
    "            strongTextRes = \"\"\n",
    "            requirementsCode = soup.find(\"div\", class_=\"job-preview-styles__requirements--2kg4_\")\n",
    "            if requirementsCode != None: \n",
    "                strongCodeRes = requirementsCode.find_all(\"strong\")\n",
    "                for strong in strongCodeRes:\n",
    "                    strongTextRes = \"DELETE\" + strong.text + \"DELETE\"\n",
    "                    if \"YOU ARE\" not in strongTextRes and \"OVERVIEW\" not in strongTextRes: strong.replaceWith(strongTextRes)\n",
    "                requirementsString = requirementsString + requirementsCode.get_text(separator=\"\\n\").replace(\"      \", \" \").replace(\"DELETE\\n\", \"\").replace(\"\\nDELETE\", \"\").replace(\"DELETE\", \"\").replace(\"\\n,\", \",\")\n",
    "\n",
    "            desReqString = desReqString + \"\\n\" + requirementsString\n",
    "            des_and_req.append(desReqString)\n",
    "        \n",
    "            pageUrl.append(page)\n",
    "            jobPosition.append(allJobNames[jobIndex])\n",
    "            \n",
    "        jobIndex += 1\n",
    "        \n",
    "\n",
    "DataFrame = pd.DataFrame() \n",
    "DataFrame['Page Url']= pageUrl \n",
    "DataFrame['Job']= jobPosition \n",
    "DataFrame['Location'] = location\n",
    "DataFrame['Description and Requirements'] = des_and_req\n",
    "DataFrame['Immunization'] = Immunization\n",
    "DataFrame['Economics'] = Economics\n",
    "\n",
    "Data = DataFrame.drop_duplicates() \n",
    "Data.to_csv(\"Thinkwell_Data.csv\")\n",
    "\n",
    "driver.quit()\n",
    "\n",
    "print('Webscraping complete')  "
   ]
  },
  {
   "cell_type": "code",
   "execution_count": null,
   "metadata": {},
   "outputs": [],
   "source": []
  }
 ],
 "metadata": {
  "kernelspec": {
   "display_name": "Python 3",
   "language": "python",
   "name": "python3"
  },
  "language_info": {
   "codemirror_mode": {
    "name": "ipython",
    "version": 3
   },
   "file_extension": ".py",
   "mimetype": "text/x-python",
   "name": "python",
   "nbconvert_exporter": "python",
   "pygments_lexer": "ipython3",
   "version": "3.8.3"
  }
 },
 "nbformat": 4,
 "nbformat_minor": 4
}
